{
 "metadata": {
  "language_info": {
   "codemirror_mode": {
    "name": "ipython",
    "version": 3
   },
   "file_extension": ".py",
   "mimetype": "text/x-python",
   "name": "python",
   "nbconvert_exporter": "python",
   "pygments_lexer": "ipython3",
   "version": "3.8.5-final"
  },
  "orig_nbformat": 2,
  "kernelspec": {
   "name": "Python 3.8.5 32-bit",
   "display_name": "Python 3.8.5 32-bit",
   "metadata": {
    "interpreter": {
     "hash": "36a0e59cb2ce096b65cc0159ec8d0510d57269846c3ce02e904751c2bedebdf2"
    }
   }
  }
 },
 "nbformat": 4,
 "nbformat_minor": 2,
 "cells": [
  {
   "cell_type": "code",
   "execution_count": 1,
   "metadata": {},
   "outputs": [
    {
     "output_type": "execute_result",
     "data": {
      "text/plain": [
       "'d:\\\\Projects\\\\python'"
      ]
     },
     "metadata": {},
     "execution_count": 1
    }
   ],
   "source": [
    "pwd"
   ]
  },
  {
   "cell_type": "code",
   "execution_count": 4,
   "metadata": {},
   "outputs": [],
   "source": [
    "f = open('practice.txt','w+')\n",
    "f.write('This is a test String')\n",
    "f.close()"
   ]
  },
  {
   "cell_type": "code",
   "execution_count": 5,
   "metadata": {},
   "outputs": [
    {
     "output_type": "execute_result",
     "data": {
      "text/plain": [
       "'d:\\\\Projects\\\\python'"
      ]
     },
     "metadata": {},
     "execution_count": 5
    }
   ],
   "source": [
    "import os\n",
    "\n",
    "os.getcwd()"
   ]
  },
  {
   "cell_type": "code",
   "execution_count": 11,
   "metadata": {},
   "outputs": [
    {
     "output_type": "execute_result",
     "data": {
      "text/plain": [
       "['.idea',\n",
       " 'bank-system.ipynb',\n",
       " 'Environment',\n",
       " 'hello.py',\n",
       " 'Kivy-1.11.1-cp38-cp38-win_amd64.whl',\n",
       " 'Kivy-1.11.1-cp39-cp39-win_amd64.whl',\n",
       " 'myguessgame.ipynb',\n",
       " 'mypytraining.ipynb',\n",
       " 'new.py',\n",
       " 'number-error-handling.ipynb',\n",
       " 'practice.ipynb',\n",
       " 'practive.txt',\n",
       " 'python-bank-system.ipynb',\n",
       " 'python-generators.ipynb',\n",
       " 'revise.ipynb',\n",
       " 'unnamed.ipynb',\n",
       " 'untitles.ipynb']"
      ]
     },
     "metadata": {},
     "execution_count": 11
    }
   ],
   "source": [
    "os.listdir()"
   ]
  },
  {
   "cell_type": "code",
   "execution_count": 10,
   "metadata": {},
   "outputs": [
    {
     "output_type": "execute_result",
     "data": {
      "text/plain": [
       "['0_MyOwn',\n",
       " 'adobe',\n",
       " 'AndroidStudio',\n",
       " 'APKs',\n",
       " 'Atom',\n",
       " 'dart',\n",
       " 'Eclipse',\n",
       " 'Flutter',\n",
       " 'FlutterProjects',\n",
       " 'google-services.json',\n",
       " 'JavaScript',\n",
       " 'JavaTraining',\n",
       " 'MyTry',\n",
       " 'newflutter',\n",
       " 'php',\n",
       " 'practice.txt',\n",
       " 'python',\n",
       " 'Resources',\n",
       " 'Sources',\n",
       " 'VisualStudio',\n",
       " 'Web Development',\n",
       " 'xd']"
      ]
     },
     "metadata": {},
     "execution_count": 10
    }
   ],
   "source": [
    "os.listdir(\"d:\\\\Projects\")"
   ]
  },
  {
   "cell_type": "code",
   "execution_count": 8,
   "metadata": {},
   "outputs": [],
   "source": [
    "import shutil"
   ]
  },
  {
   "cell_type": "code",
   "execution_count": 9,
   "metadata": {},
   "outputs": [
    {
     "output_type": "execute_result",
     "data": {
      "text/plain": [
       "'d:\\\\Projects\\\\practice.txt'"
      ]
     },
     "metadata": {},
     "execution_count": 9
    }
   ],
   "source": [
    "shutil.move('practice.txt','d:\\\\Projects')"
   ]
  },
  {
   "cell_type": "code",
   "execution_count": 13,
   "metadata": {},
   "outputs": [
    {
     "output_type": "execute_result",
     "data": {
      "text/plain": [
       "'d:\\\\Projects\\\\python\\\\practice.txt'"
      ]
     },
     "metadata": {},
     "execution_count": 13
    }
   ],
   "source": [
    "shutil.move(\"d:\\\\Projects\\\\practice.txt\",os.getcwd())"
   ]
  },
  {
   "cell_type": "code",
   "execution_count": 14,
   "metadata": {},
   "outputs": [
    {
     "output_type": "execute_result",
     "data": {
      "text/plain": [
       "'d:\\\\Projects\\\\python'"
      ]
     },
     "metadata": {},
     "execution_count": 14
    }
   ],
   "source": [
    "pwd"
   ]
  },
  {
   "cell_type": "code",
   "execution_count": 15,
   "metadata": {},
   "outputs": [
    {
     "output_type": "execute_result",
     "data": {
      "text/plain": [
       "['.idea',\n",
       " 'bank-system.ipynb',\n",
       " 'Environment',\n",
       " 'hello.py',\n",
       " 'Kivy-1.11.1-cp38-cp38-win_amd64.whl',\n",
       " 'Kivy-1.11.1-cp39-cp39-win_amd64.whl',\n",
       " 'myguessgame.ipynb',\n",
       " 'mypytraining.ipynb',\n",
       " 'new.py',\n",
       " 'number-error-handling.ipynb',\n",
       " 'practice.ipynb',\n",
       " 'practice.txt',\n",
       " 'practive.txt',\n",
       " 'python-bank-system.ipynb',\n",
       " 'python-generators.ipynb',\n",
       " 'revise.ipynb',\n",
       " 'unnamed.ipynb',\n",
       " 'untitles.ipynb']"
      ]
     },
     "metadata": {},
     "execution_count": 15
    }
   ],
   "source": [
    "os.listdir()"
   ]
  },
  {
   "cell_type": "code",
   "execution_count": 2,
   "metadata": {},
   "outputs": [
    {
     "output_type": "stream",
     "name": "stdout",
     "text": [
      "Collecting send2trashNote: you may need to restart the kernel to use updated packages.\n",
      "WARNING: You are using pip version 20.2.2; however, version 20.2.4 is available.\n",
      "You should consider upgrading via the 'C:\\Users\\YASEEN\\AppData\\Local\\Programs\\Python\\Python38-32\\python.exe -m pip install --upgrade pip' command.\n",
      "\n",
      "  Using cached Send2Trash-1.5.0-py3-none-any.whl (12 kB)\n",
      "Installing collected packages: send2trash\n",
      "Successfully installed send2trash-1.5.0\n"
     ]
    }
   ],
   "source": [
    "pip install send2trash"
   ]
  },
  {
   "cell_type": "code",
   "execution_count": 3,
   "metadata": {},
   "outputs": [
    {
     "output_type": "execute_result",
     "data": {
      "text/plain": [
       "['.idea',\n",
       " 'bank-system.ipynb',\n",
       " 'Environment',\n",
       " 'hello.py',\n",
       " 'Kivy-1.11.1-cp38-cp38-win_amd64.whl',\n",
       " 'Kivy-1.11.1-cp39-cp39-win_amd64.whl',\n",
       " 'myguessgame.ipynb',\n",
       " 'mypytraining.ipynb',\n",
       " 'new.py',\n",
       " 'number-error-handling.ipynb',\n",
       " 'practice.ipynb',\n",
       " 'practice.txt',\n",
       " 'practive.txt',\n",
       " 'python-bank-system.ipynb',\n",
       " 'python-generators.ipynb',\n",
       " 'revise.ipynb',\n",
       " 'unnamed.ipynb',\n",
       " 'untitles.ipynb']"
      ]
     },
     "metadata": {},
     "execution_count": 3
    }
   ],
   "source": [
    "import send2trash\n",
    "os.listdir()"
   ]
  },
  {
   "cell_type": "code",
   "execution_count": 4,
   "metadata": {},
   "outputs": [],
   "source": [
    "send2trash.send2trash('practice.txt')"
   ]
  },
  {
   "cell_type": "code",
   "execution_count": 13,
   "metadata": {},
   "outputs": [
    {
     "output_type": "stream",
     "name": "stdout",
     "text": [
      "currently looking at folder: folder\n\n\nThe sub folders are:\n\t subfolder: folder\n\n\nThe files are:\n\\ File: New Text Document.txt\n\n\ncurrently looking at folder: folder\\folder\n\n\nThe sub folders are:\n\n\nThe files are:\n\n\n"
     ]
    }
   ],
   "source": [
    "for folder,sub_folder,files in os.walk(\"folder\"):\n",
    "    print(\"currently looking at folder: \"+ folder)\n",
    "    print('\\n')\n",
    "    print('The sub folders are:')\n",
    "    for sub_fold in sub_folder:\n",
    "        print(\"\\t subfolder: \" + sub_fold)\n",
    "    \n",
    "    print(\"\\n\")\n",
    "\n",
    "    print(\"The files are:\")\n",
    "    for f in files:\n",
    "        print(\"\\ File: \"+ f)\n",
    "    \n",
    "    print('\\n')"
   ]
  },
  {
   "cell_type": "code",
   "execution_count": null,
   "metadata": {},
   "outputs": [],
   "source": []
  }
 ]
}