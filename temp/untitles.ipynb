{
 "metadata": {
  "language_info": {
   "codemirror_mode": {
    "name": "ipython",
    "version": 3
   },
   "file_extension": ".py",
   "mimetype": "text/x-python",
   "name": "python",
   "nbconvert_exporter": "python",
   "pygments_lexer": "ipython3",
   "version": "3.8.5-final"
  },
  "orig_nbformat": 2,
  "kernelspec": {
   "name": "Python 3.8.5 32-bit",
   "display_name": "Python 3.8.5 32-bit",
   "metadata": {
    "interpreter": {
     "hash": "36a0e59cb2ce096b65cc0159ec8d0510d57269846c3ce02e904751c2bedebdf2"
    }
   }
  }
 },
 "nbformat": 4,
 "nbformat_minor": 2,
 "cells": [
  {
   "cell_type": "code",
   "execution_count": 1,
   "metadata": {},
   "outputs": [],
   "source": [
    "import zipfile\n",
    "zip_obj = zipfile.ZipFile('unzip_me_for_instructions.zip','r')"
   ]
  },
  {
   "cell_type": "code",
   "execution_count": 2,
   "metadata": {},
   "outputs": [],
   "source": [
    "zip_obj.extractall(\"extracted_content\")"
   ]
  },
  {
   "cell_type": "code",
   "execution_count": 3,
   "metadata": {},
   "outputs": [],
   "source": [
    "import os"
   ]
  },
  {
   "cell_type": "code",
   "execution_count": 8,
   "metadata": {},
   "outputs": [
    {
     "output_type": "execute_result",
     "data": {
      "text/plain": [
       "['.idea',\n",
       " 'bank-system.ipynb',\n",
       " 'Environment',\n",
       " 'extracted_content',\n",
       " 'folder',\n",
       " 'hello.py',\n",
       " 'Kivy-1.11.1-cp38-cp38-win_amd64.whl',\n",
       " 'Kivy-1.11.1-cp39-cp39-win_amd64.whl',\n",
       " 'myguessgame.ipynb',\n",
       " 'mypytraining.ipynb',\n",
       " 'new.py',\n",
       " 'number-error-handling.ipynb',\n",
       " 'practice.ipynb',\n",
       " 'practive.txt',\n",
       " 'python-bank-system.ipynb',\n",
       " 'python-generators.ipynb',\n",
       " 'revise.ipynb',\n",
       " 'unnamed.ipynb',\n",
       " 'untitles.ipynb',\n",
       " 'unzip_me_for_instructions.zip']"
      ]
     },
     "metadata": {},
     "execution_count": 8
    }
   ],
   "source": [
    "os.listdir(\"d:\\\\Projects\\\\python\")"
   ]
  },
  {
   "cell_type": "code",
   "execution_count": 12,
   "metadata": {},
   "outputs": [
    {
     "output_type": "execute_result",
     "data": {
      "text/plain": [
       "['.idea',\n",
       " 'bank-system.ipynb',\n",
       " 'Environment',\n",
       " 'extracted_content',\n",
       " 'folder',\n",
       " 'hello.py',\n",
       " 'Kivy-1.11.1-cp38-cp38-win_amd64.whl',\n",
       " 'Kivy-1.11.1-cp39-cp39-win_amd64.whl',\n",
       " 'myguessgame.ipynb',\n",
       " 'mypytraining.ipynb',\n",
       " 'new.py',\n",
       " 'number-error-handling.ipynb',\n",
       " 'practice.ipynb',\n",
       " 'practive.txt',\n",
       " 'python-bank-system.ipynb',\n",
       " 'python-generators.ipynb',\n",
       " 'revise.ipynb',\n",
       " 'unnamed.ipynb',\n",
       " 'untitles.ipynb',\n",
       " 'unzip_me_for_instructions.zip']"
      ]
     },
     "metadata": {},
     "execution_count": 12
    }
   ],
   "source": [
    "os.listdir()"
   ]
  },
  {
   "cell_type": "code",
   "execution_count": 13,
   "metadata": {},
   "outputs": [],
   "source": [
    "import shutil"
   ]
  },
  {
   "cell_type": "code",
   "execution_count": 19,
   "metadata": {},
   "outputs": [
    {
     "output_type": "execute_result",
     "data": {
      "text/plain": [
       "['Five', 'Four', 'Instructions.txt', 'One', 'Three', 'Two']"
      ]
     },
     "metadata": {},
     "execution_count": 19
    }
   ],
   "source": [
    "os.listdir(\"d:\\\\Projects\\\\python\\\\extracted_content\\\\extracted_content\")"
   ]
  },
  {
   "cell_type": "code",
   "execution_count": 20,
   "metadata": {},
   "outputs": [],
   "source": [
    "f = open(\"d:\\\\Projects\\\\python\\\\extracted_content\\\\extracted_content\\\\instructions.txt\",'r')"
   ]
  },
  {
   "cell_type": "code",
   "execution_count": 22,
   "metadata": {},
   "outputs": [],
   "source": [
    "folderpath = 'd:\\\\Projects\\\\python\\\\extracted_content\\\\extracted_content'"
   ]
  },
  {
   "cell_type": "code",
   "execution_count": 25,
   "metadata": {},
   "outputs": [
    {
     "output_type": "stream",
     "name": "stdout",
     "text": [
      "Currently looking at folder: d:\\Projects\\python\\extracted_content\\extracted_content\n\n\nTHE SUBFOLDERS ARE: \n\t Subfolder: Five\n\t Subfolder: Four\n\t Subfolder: One\n\t Subfolder: Three\n\t Subfolder: Two\n\n\nTHE FILES ARE: \n\t File: Instructions.txt\n\n\n"
     ]
    },
    {
     "output_type": "error",
     "ename": "NameError",
     "evalue": "name 'text' is not defined",
     "traceback": [
      "\u001b[1;31m---------------------------------------------------------------------------\u001b[0m",
      "\u001b[1;31mNameError\u001b[0m                                 Traceback (most recent call last)",
      "\u001b[1;32m<ipython-input-25-f1064b4a06a0>\u001b[0m in \u001b[0;36m<module>\u001b[1;34m\u001b[0m\n\u001b[0;32m     15\u001b[0m     \u001b[0mprint\u001b[0m\u001b[1;33m(\u001b[0m\u001b[1;34m'\\n'\u001b[0m\u001b[1;33m)\u001b[0m\u001b[1;33m\u001b[0m\u001b[1;33m\u001b[0m\u001b[0m\n\u001b[0;32m     16\u001b[0m \u001b[1;33m\u001b[0m\u001b[0m\n\u001b[1;32m---> 17\u001b[1;33m     \u001b[0mphone\u001b[0m \u001b[1;33m=\u001b[0m \u001b[0mre\u001b[0m\u001b[1;33m.\u001b[0m\u001b[0msearch\u001b[0m\u001b[1;33m(\u001b[0m\u001b[1;34mr'\\d\\d\\d-\\d\\d\\d-\\d\\d\\d\\d'\u001b[0m\u001b[1;33m,\u001b[0m\u001b[0mtext\u001b[0m\u001b[1;33m)\u001b[0m\u001b[1;33m\u001b[0m\u001b[1;33m\u001b[0m\u001b[0m\n\u001b[0m\u001b[0;32m     18\u001b[0m \u001b[1;33m\u001b[0m\u001b[0m\n",
      "\u001b[1;31mNameError\u001b[0m: name 'text' is not defined"
     ]
    }
   ],
   "source": [
    "import re\n",
    "for folder , sub_folders , files in os.walk(folderpath):\n",
    "    \n",
    "    print(\"Currently looking at folder: \"+ folder)\n",
    "    print('\\n')\n",
    "    print(\"THE SUBFOLDERS ARE: \")\n",
    "    for sub_fold in sub_folders:\n",
    "        print(\"\\t Subfolder: \"+sub_fold )\n",
    "    \n",
    "    print('\\n')\n",
    "    \n",
    "    print(\"THE FILES ARE: \")\n",
    "    for f in files:\n",
    "        print(\"\\t File: \"+f)\n",
    "    print('\\n')\n",
    "\n",
    "    phone = re.search(r'\\d\\d\\d-\\d\\d\\d-\\d\\d\\d\\d',text)\n",
    "\n"
   ]
  },
  {
   "cell_type": "code",
   "execution_count": 26,
   "metadata": {},
   "outputs": [
    {
     "output_type": "stream",
     "name": "stdout",
     "text": [
      " Volume in drive D is DATA\n Volume Serial Number is E2EB-ED95\n\n Directory of d:\\Projects\\python\n\n31-10-2020  11:38    <DIR>          .\n31-10-2020  11:38    <DIR>          ..\n29-10-2020  09:46    <DIR>          .idea\n29-10-2020  18:21                 0 bank-system.ipynb\n29-10-2020  09:45    <DIR>          Environment\n31-10-2020  11:38    <DIR>          extracted_content\n30-10-2020  17:40    <DIR>          folder\n07-09-2020  16:56               905 hello.py\n07-09-2020  16:25        15,929,804 Kivy-1.11.1-cp38-cp38-win_amd64.whl\n07-09-2020  16:22        15,687,759 Kivy-1.11.1-cp39-cp39-win_amd64.whl\n26-08-2020  15:11             3,035 myguessgame.ipynb\n26-08-2020  14:58             5,083 mypytraining.ipynb\n07-09-2020  16:58             3,569 new.py\n29-10-2020  18:31             1,398 number-error-handling.ipynb\n29-10-2020  09:33            22,524 practice.ipynb\n30-10-2020  16:25                21 practive.txt\n29-10-2020  18:30             6,733 python-bank-system.ipynb\n30-10-2020  12:16             2,029 python-generators.ipynb\n26-10-2020  17:51             7,725 revise.ipynb\n30-10-2020  17:41             8,215 unnamed.ipynb\n30-10-2020  16:22                 0 untitles.ipynb\n31-10-2020  11:35           198,430 unzip_me_for_instructions.zip\n              16 File(s)     31,877,230 bytes\n               6 Dir(s)  840,761,679,872 bytes free\n"
     ]
    }
   ],
   "source": [
    "ls"
   ]
  },
  {
   "cell_type": "code",
   "execution_count": 29,
   "metadata": {},
   "outputs": [
    {
     "output_type": "stream",
     "name": "stdout",
     "text": [
      "d:\\Projects\\python\\extracted_content\\extracted_content\n"
     ]
    }
   ],
   "source": [
    "cd extracted_content"
   ]
  },
  {
   "cell_type": "code",
   "execution_count": 30,
   "metadata": {},
   "outputs": [
    {
     "output_type": "stream",
     "name": "stdout",
     "text": [
      " Volume in drive D is DATA\n",
      " Volume Serial Number is E2EB-ED95\n",
      "\n",
      " Directory of d:\\Projects\\python\\extracted_content\\extracted_content\n",
      "\n",
      "31-10-2020  11:38    <DIR>          .\n",
      "31-10-2020  11:38    <DIR>          ..\n",
      "31-10-2020  11:38    <DIR>          Five\n",
      "31-10-2020  11:38    <DIR>          Four\n",
      "31-10-2020  11:40               314 Instructions.txt\n",
      "31-10-2020  11:38    <DIR>          One\n",
      "31-10-2020  11:38    <DIR>          Three\n",
      "31-10-2020  11:38    <DIR>          Two\n",
      "               1 File(s)            314 bytes\n",
      "               7 Dir(s)  840,761,679,872 bytes free\n"
     ]
    }
   ],
   "source": [
    "ls"
   ]
  },
  {
   "cell_type": "code",
   "execution_count": 33,
   "metadata": {},
   "outputs": [
    {
     "output_type": "stream",
     "name": "stdout",
     "text": [
      "Good work on unzipping the file!\nYou should now see 5 folders, each with a lot of random .txt files.\nWithin one of these text files is a telephone number formated ###-###-#### \nUse the Python os module and regular expressions to iterate through each file, open it, and search for a telephone number.\nGood luck!\n"
     ]
    }
   ],
   "source": [
    "with open('extracted_content/Instructions.txt','r') as f:\n",
    "    content = f.read()\n",
    "    print(content)"
   ]
  },
  {
   "cell_type": "code",
   "execution_count": 1,
   "metadata": {},
   "outputs": [
    {
     "output_type": "error",
     "ename": "ModuleNotFoundError",
     "evalue": "No module named 'requests'",
     "traceback": [
      "\u001b[1;31m---------------------------------------------------------------------------\u001b[0m",
      "\u001b[1;31mModuleNotFoundError\u001b[0m                       Traceback (most recent call last)",
      "\u001b[1;32m<ipython-input-1-95039fbd75c1>\u001b[0m in \u001b[0;36m<module>\u001b[1;34m\u001b[0m\n\u001b[1;32m----> 1\u001b[1;33m \u001b[1;32mimport\u001b[0m \u001b[0mrequests\u001b[0m\u001b[1;33m\u001b[0m\u001b[1;33m\u001b[0m\u001b[0m\n\u001b[0m",
      "\u001b[1;31mModuleNotFoundError\u001b[0m: No module named 'requests'"
     ]
    }
   ],
   "source": [
    "import requests"
   ]
  },
  {
   "cell_type": "code",
   "execution_count": null,
   "metadata": {},
   "outputs": [],
   "source": []
  }
 ]
}