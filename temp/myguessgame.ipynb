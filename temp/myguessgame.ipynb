{
 "metadata": {
  "language_info": {
   "codemirror_mode": {
    "name": "ipython",
    "version": 3
   },
   "file_extension": ".py",
   "mimetype": "text/x-python",
   "name": "python",
   "nbconvert_exporter": "python",
   "pygments_lexer": "ipython3",
   "version": "3.8.5-final"
  },
  "orig_nbformat": 2,
  "kernelspec": {
   "name": "python_defaultSpec_1598434119577",
   "display_name": "Python 3.8.5 32-bit"
  }
 },
 "nbformat": 4,
 "nbformat_minor": 2,
 "cells": [
  {
   "cell_type": "code",
   "execution_count": 1,
   "metadata": {},
   "outputs": [],
   "source": [
    "numbers_list = [1,2,3,4,5,6,7]\n",
    "\n",
    "from random import shuffle\n",
    "\n",
    "shuffle(numbers_list)"
   ]
  },
  {
   "cell_type": "code",
   "execution_count": 3,
   "metadata": {},
   "outputs": [
    {
     "output_type": "execute_result",
     "data": {
      "text/plain": "[6, 1, 3, 5, 7, 2, 4]"
     },
     "metadata": {},
     "execution_count": 3
    }
   ],
   "source": [
    "numbers_list"
   ]
  },
  {
   "cell_type": "code",
   "execution_count": 5,
   "metadata": {
    "tags": []
   },
   "outputs": [
    {
     "output_type": "stream",
     "name": "stdout",
     "text": "[4, 5, 2, 3, 1, 7, 6]\n"
    }
   ],
   "source": [
    "def shuffled_list(new_list):\n",
    "    shuffle(new_list)\n",
    "    return new_list\n",
    "\n",
    "result = shuffled_list(numbers_list)\n",
    "\n",
    "print(result)\n"
   ]
  },
  {
   "cell_type": "code",
   "execution_count": 6,
   "metadata": {},
   "outputs": [],
   "source": [
    "new_list = [' ','O',' ']"
   ]
  },
  {
   "cell_type": "code",
   "execution_count": 40,
   "metadata": {
    "tags": []
   },
   "outputs": [
    {
     "output_type": "stream",
     "name": "stdout",
     "text": "['O', ' ', ' ']\n"
    }
   ],
   "source": [
    "shuffled_list(new_list)\n",
    "check = new_list\n",
    "print(check)"
   ]
  },
  {
   "cell_type": "code",
   "execution_count": 39,
   "metadata": {},
   "outputs": [],
   "source": [
    "def player_guess():\n",
    "    guess=\" \"\n",
    "    while guess not in ['0','1','2']:\n",
    "        guess = input(\"Pick a number : 0, 1 and 2\")\n",
    "        return int(guess)\n"
   ]
  },
  {
   "cell_type": "code",
   "execution_count": 43,
   "metadata": {},
   "outputs": [],
   "source": [
    "def check_guess(check,guess):\n",
    "    if check[guess] == 'O':\n",
    "        print(\"Correct!\")\n",
    "        print(check)\n",
    "    else:\n",
    "        print(\"Wrong!!!\")\n",
    "        print(check)"
   ]
  },
  {
   "cell_type": "code",
   "execution_count": 44,
   "metadata": {
    "tags": []
   },
   "outputs": [
    {
     "output_type": "stream",
     "name": "stdout",
     "text": "Wrong!!!\n[' ', ' ', 'O']\n"
    }
   ],
   "source": [
    "mixed_list=shuffled_list(check)\n",
    "guess = player_guess()\n",
    "check_guess(mixed_list,guess)"
   ]
  },
  {
   "cell_type": "code",
   "execution_count": null,
   "metadata": {},
   "outputs": [],
   "source": []
  }
 ]
}