{
 "metadata": {
  "language_info": {
   "codemirror_mode": {
    "name": "ipython",
    "version": 3
   },
   "file_extension": ".py",
   "mimetype": "text/x-python",
   "name": "python",
   "nbconvert_exporter": "python",
   "pygments_lexer": "ipython3",
   "version": "3.8.5-final"
  },
  "orig_nbformat": 2,
  "kernelspec": {
   "name": "Python 3.8.5 32-bit",
   "display_name": "Python 3.8.5 32-bit",
   "metadata": {
    "interpreter": {
     "hash": "36a0e59cb2ce096b65cc0159ec8d0510d57269846c3ce02e904751c2bedebdf2"
    }
   }
  }
 },
 "nbformat": 4,
 "nbformat_minor": 2,
 "cells": [
  {
   "cell_type": "code",
   "execution_count": 149,
   "metadata": {
    "tags": []
   },
   "outputs": [
    {
     "output_type": "execute_result",
     "data": {
      "text/plain": "['h', 'e', 'l', 'l', 'o']"
     },
     "metadata": {},
     "execution_count": 149
    }
   ],
   "source": [
    "mystring = \"hello\"\n",
    "\n",
    "mylist = []\n",
    "\n",
    "for letters in mystring:\n",
    "    mylist.append(letters)\n",
    "\n",
    "mylist"
   ]
  },
  {
   "cell_type": "code",
   "execution_count": 163,
   "metadata": {},
   "outputs": [
    {
     "output_type": "execute_result",
     "data": {
      "text/plain": "[0, 4, 16, 36, 64, 100]"
     },
     "metadata": {},
     "execution_count": 163
    }
   ],
   "source": [
    "mynums = [ nums**2 for nums in range(0,11) if nums%2==0 ]\n",
    "mynums"
   ]
  },
  {
   "cell_type": "code",
   "execution_count": 167,
   "metadata": {},
   "outputs": [
    {
     "output_type": "execute_result",
     "data": {
      "text/plain": "[32.0, 50.0, 68.0, 94.1]"
     },
     "metadata": {},
     "execution_count": 167
    }
   ],
   "source": [
    "celcius = [0,10,20,34.5]\n",
    "fahrenheit = [ ((9/5)*temp+32) for temp in celcius ]\n",
    "fahrenheit"
   ]
  },
  {
   "cell_type": "code",
   "execution_count": 175,
   "metadata": {},
   "outputs": [
    {
     "output_type": "execute_result",
     "data": {
      "text/plain": "['odd', 2, 'odd', 4, 'odd', 6, 'odd', 8, 'odd', 10]"
     },
     "metadata": {},
     "execution_count": 175
    }
   ],
   "source": [
    "result = [ x if x%2==0 else 'odd' for x in range(1,11) ]\n",
    "result"
   ]
  },
  {
   "cell_type": "code",
   "execution_count": 186,
   "metadata": {
    "tags": []
   },
   "outputs": [
    {
     "output_type": "stream",
     "name": "stdout",
     "text": "hi\n"
    },
    {
     "output_type": "execute_result",
     "data": {
      "text/plain": "['false',\n 'false',\n 'false',\n 'false',\n 'false',\n None,\n 'false',\n 'false',\n 'false',\n 'false']"
     },
     "metadata": {},
     "execution_count": 186
    }
   ],
   "source": [
    "addition = [ print(\"hi\") if sum==5 else 'false' for sum in range(0,10) ]\n",
    "addition"
   ]
  },
  {
   "cell_type": "code",
   "execution_count": 201,
   "metadata": {},
   "outputs": [
    {
     "output_type": "execute_result",
     "data": {
      "text/plain": "[2, 20, 2000, 4, 40, 4000, 6, 60, 6000]"
     },
     "metadata": {},
     "execution_count": 201
    }
   ],
   "source": [
    "mylist = []\n",
    "for x in [2,4,6]:\n",
    "    for y in [1,10,1000]:\n",
    "        mylist.append(x*y)\n",
    "mylist"
   ]
  },
  {
   "cell_type": "code",
   "execution_count": 202,
   "metadata": {},
   "outputs": [
    {
     "output_type": "execute_result",
     "data": {
      "text/plain": "[2, 20, 2000, 4, 40, 4000, 6, 60, 6000]"
     },
     "metadata": {},
     "execution_count": 202
    }
   ],
   "source": [
    "mylist = [ x*y for x in [2,4,6] for y in [1,10,1000] ]\n",
    "mylist"
   ]
  },
  {
   "cell_type": "code",
   "execution_count": 205,
   "metadata": {},
   "outputs": [
    {
     "output_type": "execute_result",
     "data": {
      "text/plain": "20"
     },
     "metadata": {},
     "execution_count": 205
    }
   ],
   "source": [
    "def add_func(n1,n2):\n",
    "    return n1+n2\n",
    "add_func(10,10)"
   ]
  },
  {
   "cell_type": "code",
   "execution_count": null,
   "metadata": {},
   "outputs": [],
   "source": []
  },
  {
   "cell_type": "code",
   "execution_count": null,
   "metadata": {},
   "outputs": [],
   "source": []
  },
  {
   "cell_type": "code",
   "execution_count": 3,
   "metadata": {
    "tags": []
   },
   "outputs": [
    {
     "output_type": "stream",
     "name": "stdout",
     "text": "hello Yaseen \n"
    },
    {
     "output_type": "execute_result",
     "data": {
      "text/plain": "'hello Yaseen'"
     },
     "metadata": {},
     "execution_count": 3
    }
   ],
   "source": [
    "def say_name(name = 'Default'):\n",
    "    print(f\" hello {name} \")\n",
    "    return (f\"hello {name}\")\n",
    "\n",
    "say_name(\"Yaseen\")\n"
   ]
  },
  {
   "cell_type": "code",
   "execution_count": 8,
   "metadata": {},
   "outputs": [
    {
     "output_type": "execute_result",
     "data": {
      "text/plain": "False"
     },
     "metadata": {},
     "execution_count": 8
    }
   ],
   "source": [
    "def results(num):\n",
    "    result = num%2==0\n",
    "    return result\n",
    "\n",
    "results(21)"
   ]
  },
  {
   "cell_type": "code",
   "execution_count": 2,
   "metadata": {},
   "outputs": [
    {
     "output_type": "execute_result",
     "data": {
      "text/plain": "False"
     },
     "metadata": {},
     "execution_count": 2
    }
   ],
   "source": [
    "def check_even_inlist(num_list):\n",
    "    for num in num_list:\n",
    "        if num % 2 == 0:\n",
    "            return True\n",
    "        else:\n",
    "            pass\n",
    "    return False\n",
    "\n",
    "check_even_inlist([1,3])"
   ]
  },
  {
   "cell_type": "code",
   "execution_count": 6,
   "metadata": {
    "tags": []
   },
   "outputs": [
    {
     "output_type": "stream",
     "name": "stdout",
     "text": "('apple', 200)\n('google', 500)\n('microsoft', 300)\napple\n180.0\ngoogle\n450.0\nmicrosoft\n270.0\n"
    }
   ],
   "source": [
    "stock_price = [ (\"apple\",200) , (\"google\",500) , (\"microsoft\",300) ]\n",
    "\n",
    "for item in stock_price:\n",
    "    print(item)\n",
    "\n",
    "for ticker,price in stock_price:\n",
    "    print(ticker)\n",
    "    print(price + (-0.1*price))"
   ]
  },
  {
   "cell_type": "code",
   "execution_count": 3,
   "metadata": {},
   "outputs": [
    {
     "output_type": "execute_result",
     "data": {
      "text/plain": "('shariff', 50000)"
     },
     "metadata": {},
     "execution_count": 3
    }
   ],
   "source": [
    "work_hours = [(\"Abby\",10000) , (\"yaseen\",1000), (\"shariff\",50000)]\n",
    "\n",
    "def employee_check(work_hours):\n",
    "    current_max = 0\n",
    "    employee_of_the_month = \" \"\n",
    "    for employee,hours in work_hours:\n",
    "        if hours > current_max:\n",
    "            current_max = hours\n",
    "            employee_of_the_month = employee\n",
    "        else:\n",
    "            pass\n",
    "    return (employee_of_the_month,current_max)\n",
    "employee_check(work_hours)"
   ]
  },
  {
   "cell_type": "code",
   "execution_count": 17,
   "metadata": {
    "tags": []
   },
   "outputs": [
    {
     "output_type": "stream",
     "name": "stdout",
     "text": "end\n"
    }
   ],
   "source": [
    "x = [1,2,3]\n",
    "for items in x:\n",
    "    pass\n",
    "print('end')"
   ]
  },
  {
   "cell_type": "code",
   "execution_count": null,
   "metadata": {},
   "outputs": [],
   "source": [
    "name = 'swamy'\n",
    "for letters in name:\n",
    "    if letters == a:\n",
    "        continue\n",
    "    print"
   ]
  },
  {
   "cell_type": "code",
   "execution_count": null,
   "metadata": {},
   "outputs": [],
   "source": []
  }
 ]
}